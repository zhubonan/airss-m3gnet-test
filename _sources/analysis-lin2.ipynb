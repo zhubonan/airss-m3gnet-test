{
 "cells": [
  {
   "cell_type": "markdown",
   "id": "b04c07bb",
   "metadata": {},
   "source": [
    "# Test case - $\\mathrm{LiN_2}$\n",
    "\n",
    "In this example, we search for $\\ce{LiN2}$ using both DFT and M3GNet. \n",
    "The DFT search is performed first using AIRSS, the M3GNet is used to relax the initial structures and the DFT relaxed structures.\n",
    "\n",
    "This compound, $\\ce{LiN2}$ has not been reported experimentally, \n",
    "and there is no entry of such stoichiometry in the Materials Project database (as of March 2023)."
   ]
  },
  {
   "cell_type": "code",
   "execution_count": null,
   "id": "e5b8c9de",
   "metadata": {
    "tags": [
     "hide-input"
    ]
   },
   "outputs": [],
   "source": [
    "import os\n",
    "os.environ[\"CUDA_VISIBLE_DEVICES\"]=\"-1\"    \n",
    "\n",
    "import warnings\n",
    "from pathlib import Path\n",
    "from ase.io import read\n",
    "import ase\n",
    "import pandas as pd\n",
    "\n",
    "from tqdm import tqdm\n",
    "tqdm = lambda x: x\n",
    "\n",
    "def load_dataset(names):\n",
    "    cells = [read(x) for x in  tqdm(names)]\n",
    "    for atoms, name in zip(cells, input_names):\n",
    "        atoms.info['fname'] = name.stem\n",
    "\n",
    "    dataset = []\n",
    "    for atoms in cells:\n",
    "        dataset.append(\n",
    "        {\n",
    "            'atoms': atoms,\n",
    "            'label': atoms.info['fname'],\n",
    "            'energy': atoms.info['energy'],\n",
    "            'energy_per_atom': atoms.info['energy'] / len(atoms),\n",
    "            'volume': atoms.get_volume(),\n",
    "            'volume_per_atom': atoms.get_volume() / len(atoms),\n",
    "\n",
    "        }\n",
    "        )\n",
    "\n",
    "    return pd.DataFrame(dataset).sort_values('energy_per_atom')\n",
    "\n",
    "def show_compact(df):\n",
    "    return df[['label', 'energy_per_atom', 'volume_per_atom']]\n",
    "\n",
    "def add_labels(ax):\n",
    "    \"\"\"Add axis labels\"\"\"\n",
    "    ax.set_ylabel('Energy per atom (eV)')\n",
    "    ax.set_xlabel(r'Volume per atom ($\\mathrm{\\AA^3}$)')\n"
   ]
  },
  {
   "cell_type": "markdown",
   "id": "322a811f",
   "metadata": {},
   "source": [
    "Load calculated data from files"
   ]
  },
  {
   "cell_type": "code",
   "execution_count": null,
   "id": "02a6999b",
   "metadata": {
    "tags": [
     "hide-input"
    ]
   },
   "outputs": [],
   "source": [
    "input_names = list(Path(\"lin2/run1/\").glob(\"*.res\"))\n",
    "df_dft = load_dataset(input_names)\n",
    "\n",
    "input_names = list(Path(\"lin2/run1-m3gnet/\").glob(\"*.res\"))\n",
    "df_m3g = load_dataset(input_names)\n",
    "\n",
    "input_names = list(Path(\"lin2/run1-relaxed-m3gnet\").glob(\"*.res\"))\n",
    "df_m3g_from_relaxed = load_dataset(input_names)"
   ]
  },
  {
   "cell_type": "markdown",
   "id": "b0baeca3",
   "metadata": {},
   "source": [
    "## Energy - Volume distribution\n",
    "\n",
    "Similar to the other two cases, we plot the energy per atom against the volume per atom.\n",
    "\n",
    "Distribution from the M3GNet search is shown below."
   ]
  },
  {
   "cell_type": "code",
   "execution_count": null,
   "id": "0ea33cc1",
   "metadata": {
    "tags": [
     "hide-input"
    ]
   },
   "outputs": [],
   "source": [
    "ax = df_m3g.plot.scatter('volume_per_atom', 'energy_per_atom', label='m3gnet')\n",
    "ax = df_m3g_from_relaxed.plot.scatter('volume_per_atom', 'energy_per_atom',  xlim=(9, 20), label='m3gnet-from-dft', ax=ax, color='C1')\n",
    "ax.set_ylim(df_m3g.energy_per_atom.min() - 0.01, df_m3g.energy_per_atom.min() + 0.1)\n",
    "ax.legend(loc=1)\n",
    "add_labels(ax)"
   ]
  },
  {
   "cell_type": "markdown",
   "id": "950eb883",
   "metadata": {},
   "source": [
    "Distribution from the DFT search, which is shown below, is quite different from that of the M3GNet."
   ]
  },
  {
   "cell_type": "code",
   "execution_count": null,
   "id": "88e4e199",
   "metadata": {
    "tags": [
     "hide-input"
    ]
   },
   "outputs": [],
   "source": [
    "ax = df_dft.plot.scatter('volume_per_atom', 'energy_per_atom', \n",
    "                         xlim=(9, 20), ylim=(-434, -433.75),\n",
    "                         label='PBE Search')\n",
    "ax.set_ylim(df_dft.energy_per_atom.min() - 0.01, df_dft.energy_per_atom.min() + 0.1)\n",
    "ax.legend(loc=1)\n",
    "add_labels(ax)"
   ]
  },
  {
   "cell_type": "markdown",
   "id": "19e5a88c",
   "metadata": {},
   "source": [
    "In addition, the lowest energy structure have very different volumes, as the lowest\n",
    "energy structures from the M3GNet are:"
   ]
  },
  {
   "cell_type": "code",
   "execution_count": null,
   "id": "cb18797a",
   "metadata": {
    "tags": [
     "hide-input"
    ]
   },
   "outputs": [],
   "source": [
    "show_compact(df_dft.iloc[:10])"
   ]
  },
  {
   "cell_type": "markdown",
   "id": "38afcafe",
   "metadata": {},
   "source": [
    "and those from the DFT search are:"
   ]
  },
  {
   "cell_type": "code",
   "execution_count": null,
   "id": "e3d0112b",
   "metadata": {
    "tags": [
     "hide-input"
    ]
   },
   "outputs": [],
   "source": [
    "show_compact(df_m3g.iloc[:10])"
   ]
  },
  {
   "cell_type": "markdown",
   "id": "6a1a2f3b",
   "metadata": {},
   "source": [
    "Checking the lowest energy structures visually, we found:\n",
    "    \n",
    "- M3GNet relaxed structures feature azide ions, while the DFT ones contains the N2 dimers.\n",
    "- M3GNet relaxed structure are generally high in volume compared to the DFT results.\n",
    "\n",
    "\n",
    "## Energy distribution of the relaxed structures\n",
    "\n",
    "The distributions from the two searches are very different, as shown below:"
   ]
  },
  {
   "cell_type": "code",
   "execution_count": null,
   "id": "1e1b94fb",
   "metadata": {
    "tags": [
     "hide-input"
    ]
   },
   "outputs": [],
   "source": [
    "import matplotlib.pyplot as plt\n",
    "\n",
    "engs = df_m3g['energy_per_atom'].values.copy()\n",
    "engs_m3g = engs -engs.min()\n",
    "\n",
    "engs = df_dft['energy_per_atom'].values.copy()\n",
    "engs_dft = engs - engs.min()\n",
    "\n",
    "plt.hist(engs_m3g, bins=100,alpha=0.5,density=True, label='M3GNet', range=(0,0.5));\n",
    "plt.hist(engs_dft, bins=100, alpha=0.5, density=True, label='PBE + U', range=(0, 0.5))\n",
    "plt.legend()\n",
    "plt.xlabel('Energy per atom (eV)')\n",
    "plt.ylabel('Probability density');"
   ]
  },
  {
   "cell_type": "markdown",
   "id": "f8ade5a5",
   "metadata": {},
   "source": [
    "Clearly, this case the M3GNet does not reproduce the PES of the DFT at all, since the two distributions are vastly different.\n",
    "It may appear that M3GNet has a high concentration of low energy structure, \n",
    "this only is due to the reference energy is taken from the lowest energy structure using the same methodology. \n",
    "\n",
    "## Which approach finds lower energy structure?\n",
    "\n",
    "It is not possible to compare the energies directly as the DFT calculations are done with CASTEP+QC5 while the M3GNet \n",
    "is trained on VASP+PBE,\n",
    "and unlike previous two cases, we cannot use known lowest structures as references for comparison.\n",
    "The QC5 pseudopotentials used in the search are not designed to be highly transferable but focus on the speed instead.\n",
    "Hence, we re-relax the structures generated from both approaches using CASTEP+C19 at 800 eV and a kpoint spacing of $0.05 \\times 2\\pi \\AA^{-1}$.\n",
    "*C19* is the default pseudopotential library for CASTEP, which has higher accuracy than the *QC5* used for searching, but it requires higher cut off energy.\n",
    "The results are shown in the figure below."
   ]
  },
  {
   "cell_type": "code",
   "execution_count": null,
   "id": "bf714e75",
   "metadata": {
    "tags": [
     "hide-input"
    ]
   },
   "outputs": [],
   "source": [
    "input_names = list(Path(\"lin2/refine-run1/good_castep/\").glob(\"*.res\"))\n",
    "df_dft_refine = load_dataset(input_names)\n",
    "\n",
    "input_names = list(Path(\"lin2/refine-run1-m3gnet/good_castep/\").glob(\"*.res\"))\n",
    "df_m3g_refine = load_dataset(input_names)\n",
    "\n",
    "ax = df_dft_refine.plot.scatter('volume_per_atom', 'energy_per_atom', label='CASTEP+QC5->C19')\n",
    "ax = df_m3g_refine.plot.scatter('volume_per_atom', 'energy_per_atom',  xlim=(9, 20), label='M3GNet->C19', ax=ax, color='C1')\n",
    "ax.set_ylim(df_dft_refine.energy_per_atom.min() - 0.01, df_dft_refine.energy_per_atom.min() + 0.3)\n",
    "ax.legend(loc=1)\n",
    "ax.set_ylabel('Energy per atom (eV)')\n",
    "ax.set_xlabel(r'Volume per atom ($\\mathrm{\\AA^3}$)')\n",
    "add_labels(ax)"
   ]
  },
  {
   "cell_type": "markdown",
   "id": "65c29c28",
   "metadata": {},
   "source": [
    "It is clear that the structure from M3GNet are quite high in energy.\n",
    "Relaxing these structures with DFT did change the geometry slightly, \n",
    "but the main structural features remain the same. \n",
    "Clearly, using M3GNet to search for this particularly composition, $\\ce{LiN2}$, would not yield any fruitful results.\n",
    "\n",
    "Are the new $LiN2$ structure found by DFT thermodynamically stable? \n",
    "It turns out the phase diagram of Li-N has indeed been studied previously:\n",
    "\n",
    "- Shen, Y., Oganov, A., Qian, G. et al. Novel lithium-nitrogen compounds at ambient and high pressures. Sci Rep 5, 14204 (2015). https://doi.org/10.1038/srep14204\n",
    "\n",
    "Where the same $\\ce{LiN2}$ structure has been reported. \n",
    "These structures are not included in the Materials Project dataset, which probably explains why the model does not do well in the Li-N chemical space.\n",
    "\n",
    "\n",
    "## Extras - Machine Learning Potential accelerated search for the Li-N composition space\n",
    "\n",
    "Using M3GNet for geometry optimisation would certainly miss the $\\ce{LiN2}$ ground state. This is not surprising because there is no similar structures in the training set. \n",
    "\n",
    "But can MLPs accelerate AIRSS? A search of Li-N phase space using the recent developed [Ephemeral data derived potentials](https://journals.aps.org/prb/abstract/10.1103/PhysRevB.106.014102) can reproduce the convex hull of Shen et al 2015 above at ambient pressure, but there are also some intriguing new phases found, including $\\ce{Li3N4}$  🤔🤔.\n",
    "\n",
    "In this example, the potentials are iteratively built using DFT energies of randomly generated structures. It still at least for now we still need to pay the price of DFT. The training data involves ~ 60k DFT single point energy of small unit cells. This might sound a lot, they are roughly similar to the cost of just 1200 geometry optimisation. The potential built should be able to cover the entire composition space and allow sampling of larger unit cells.\n",
    "\n",
    "Could one M3GNet make work for the Li-N if these training structures are included in the training? Or perhaps during fine-tuning?\n",
    "\n",
    "![](hull-li-n.png)"
   ]
  }
 ],
 "metadata": {
  "kernelspec": {
   "display_name": "Python 3 (ipykernel)",
   "language": "python",
   "name": "python3"
  }
 },
 "nbformat": 4,
 "nbformat_minor": 5
}
